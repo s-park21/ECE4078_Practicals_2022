{
 "cells": [
  {
   "cell_type": "markdown",
   "metadata": {
    "cell_id": "f5464222-30ef-480d-b965-feb4e600e189",
    "deepnote_cell_height": 194.8000030517578,
    "deepnote_cell_type": "markdown"
   },
   "source": [
    "# Practical 03 - Bug1"
   ]
  },
  {
   "cell_type": "code",
   "execution_count": null,
   "metadata": {
    "cell_id": "00002-1cd54c83-a830-458e-95e9-67e815c63ecc",
    "deepnote_cell_height": 171,
    "deepnote_cell_type": "code",
    "deepnote_to_be_reexecuted": false,
    "execution_millis": 3,
    "execution_start": 1658110595687,
    "source_hash": "c129aa7c"
   },
   "outputs": [],
   "source": [
    "from Practical03_Support.Obstacle import *\n",
    "from Practical03_Support.path_animation import *\n",
    "import meshcat.geometry as g\n",
    "import meshcat.transformations as tf\n",
    "\n",
    "from ece4078.Utility import StartMeshcat\n",
    "from shapely import geometry"
   ]
  },
  {
   "cell_type": "code",
   "execution_count": null,
   "metadata": {
    "cell_id": "3747348206224bf9a780e3ce136f573d",
    "deepnote_cell_height": 182.39999389648438,
    "deepnote_cell_type": "code",
    "deepnote_output_heights": [
     null,
     21
    ],
    "deepnote_to_be_reexecuted": false,
    "execution_millis": 26,
    "execution_start": 1658110597533,
    "source_hash": "34afddb1",
    "tags": []
   },
   "outputs": [],
   "source": [
    "vis = StartMeshcat()"
   ]
  },
  {
   "cell_type": "markdown",
   "metadata": {},
   "source": [
    "## Helper functions\n",
    "These are the helper functions used by Bug1 when looking for a path between the start and goal locations."
   ]
  },
  {
   "cell_type": "code",
   "execution_count": null,
   "metadata": {
    "cell_id": "00004-4149210f-5d3c-4b6f-9f87-50257cb76e9c",
    "deepnote_cell_height": 441,
    "deepnote_cell_type": "code",
    "deepnote_to_be_reexecuted": false,
    "execution_millis": 1,
    "execution_start": 1658110600495,
    "source_hash": "650a3f7f"
   },
   "outputs": [],
   "source": [
    "# Helper functions\n",
    "def find_closest_obstacle(position, obstacle_list, ccw):\n",
    "    results = [obs.compute_distance_point_to_polygon(position, ccw) for obs in obstacle_list]\n",
    "    closest_obs = np.argmin([v[0] for v in results])\n",
    "    return obstacle_list[closest_obs], results[closest_obs]\n",
    "\n",
    "def has_reached_goal(current_pos, goal, step_size):\n",
    "    if compute_distance_between_points(current_pos, goal) > step_size:\n",
    "        return False\n",
    "    return True\n",
    "\n",
    "def move_towards_goal(current_pos, goal_pos, step_size):\n",
    "    direction_to_goal = get_direction_from_points(current_pos, goal_pos)\n",
    "    next_position = current_pos + step_size * direction_to_goal\n",
    "    return next_position\n",
    "\n",
    "def is_about_to_hit_obstacle(next_pos, obstacle_list, step_size, ccw):\n",
    "    obs, (_, _) = find_closest_obstacle(next_pos, obstacle_list, ccw)\n",
    "    point = geometry.Point(next_pos)\n",
    "    polygon = geometry.Polygon(obs.vertices)\n",
    "    if point.within(polygon) or point.touches(point):\n",
    "        return True\n",
    "    else:\n",
    "        return False"
   ]
  },
  {
   "cell_type": "markdown",
   "metadata": {
    "cell_id": "00005-e4cf9e23-6270-4794-8d83-f02ad20b5261",
    "deepnote_cell_height": 130.8000030517578,
    "deepnote_cell_type": "markdown"
   },
   "source": [
    "Taking the code of Bug2 algorithm as a starting point, you are asked to implement the Bug1 algorithm (shown below)\n",
    "\n",
    "![title](https://i.imgur.com/VdNT8c0.png)\n",
    "\n",
    "A few pointers, within the main loop, we will have two loops:\n",
    "- A first loop to find the point $Q$ along the obstacle's boundary that is the closest to the goal.\n",
    "- A second loop that circumnavigates the obstacle until $Q$ is reached again\n",
    "- Once the robot has reached $Q$, it should come back to the main loop and move towards the goal\n",
    "\n",
    "Ideas: \n",
    "- Use the ``hit_point`` to know when a first path along the obstacle's boundary has been completed\n",
    "- Keep in memory (using the lists ``boundary_points, goal_distances = [], []``) of all positions and distances to goal along the obstacle's boundary. Use this memory to determine whether the robot has reached $Q$"
   ]
  },
  {
   "cell_type": "code",
   "execution_count": null,
   "metadata": {
    "cell_id": "00006-7c215e21-d4e7-498a-b307-7227f3f141d1",
    "deepnote_cell_height": 1323,
    "deepnote_cell_type": "code",
    "deepnote_to_be_reexecuted": false,
    "execution_millis": 11,
    "execution_start": 1658110603845,
    "source_hash": "527a0f1f"
   },
   "outputs": [],
   "source": [
    "# Implement Bug1 Algorithm\n",
    "def bug1_algorithm(goal_pos,initial_robot_pos,robot_step_size,obstacles,ccw):\n",
    "    # Start algorithm\n",
    "    robot_path = [initial_robot_pos]\n",
    "    current_robot_pos = initial_robot_pos \n",
    "    robot_to_goal_line = compute_line_through_points(current_robot_pos, goal_pos)\n",
    "\n",
    "    # While goal not reached\n",
    "    while not has_reached_goal(current_robot_pos, goal_pos, robot_step_size):\n",
    "\n",
    "        # Move towards goal\n",
    "        next_robot_pos = move_towards_goal(current_robot_pos, goal_pos, robot_step_size)\n",
    "        hit_point = np.copy(next_robot_pos)\n",
    "\n",
    "        if is_about_to_hit_obstacle(next_robot_pos, obstacles, robot_step_size, ccw):\n",
    "            # Go back to current position\n",
    "            next_robot_pos = current_robot_pos\n",
    "            # Compute distance from hit point to goal        \n",
    "            boundary_points, goal_distances = [], []\n",
    "\n",
    "            while True:\n",
    "                closest_obs, (closest_obs_distance, obst_segment) = find_closest_obstacle(next_robot_pos,\n",
    "                                                                                         obstacles, ccw)\n",
    "                # Get direction along obstacle\n",
    "                direction_around_obstacle = closest_obs.compute_tangent_vector_to_polygon(next_robot_pos, \n",
    "                                                                                          obst_segment)\n",
    "                # Move along obstacle\n",
    "                next_robot_pos = next_robot_pos + robot_step_size * direction_around_obstacle\n",
    "                robot_path.append(next_robot_pos)\n",
    "\n",
    "                goal_distances.append(compute_distance_between_points(next_robot_pos, goal_pos))\n",
    "                boundary_points.append(next_robot_pos)\n",
    "\n",
    "                completed_tour = (compute_distance_between_points(hit_point, next_robot_pos) < robot_step_size)\n",
    "\n",
    "                if completed_tour:\n",
    "                    while True:\n",
    "                        idx_min_dist = np.argmin(goal_distances)\n",
    "\n",
    "                        # Find nearest_obstacle and start navigating around \n",
    "                        closest_obs, (closest_obs_distance, obst_segment) = find_closest_obstacle(next_robot_pos,\n",
    "                                                                                                 obstacles,ccw)\n",
    "                        # Get direction along obstacle\n",
    "                        direction_around_obstacle = closest_obs.compute_tangent_vector_to_polygon(next_robot_pos, \n",
    "                                                                                                  obst_segment)\n",
    "                        # Move along obstacle\n",
    "                        next_robot_pos = next_robot_pos + robot_step_size * direction_around_obstacle\n",
    "\n",
    "                        robot_path.append(next_robot_pos)\n",
    "\n",
    "                        # Stop getting around obstacle when we found point closest to goal:\n",
    "                        stop_getting_around = compute_distance_between_points(next_robot_pos,\n",
    "                                                                              goal_pos) <= goal_distances[idx_min_dist]\n",
    "\n",
    "                        if stop_getting_around:\n",
    "                            break\n",
    "                    break\n",
    "\n",
    "        # Update current state and add to path\n",
    "        current_robot_pos = next_robot_pos\n",
    "        robot_path.append(current_robot_pos)\n",
    "\n",
    "    path = np.array(robot_path)\n",
    "    return path"
   ]
  },
  {
   "cell_type": "code",
   "execution_count": null,
   "metadata": {
    "cell_id": "00007-c6168836-5cd5-4ed9-babf-4c113e65cc72",
    "deepnote_cell_height": 441,
    "deepnote_cell_type": "code",
    "deepnote_to_be_reexecuted": false,
    "execution_millis": 1115,
    "execution_start": 1658110607086,
    "source_hash": "ec4b2be3"
   },
   "outputs": [],
   "source": [
    "# Set parameters\n",
    "\n",
    "# # Order A\n",
    "goal_pos = [20.0, 10.0]\n",
    "initial_robot_pos = [30.0, 40.0]\n",
    "\n",
    "# # Order B\n",
    "# # Uncomment the next three lines to see the bug algorithm in reverse order\n",
    "# goal_pos = [30.0, 40.0]\n",
    "# initial_robot_pos = [20.0, 10.0]\n",
    "\n",
    "# Robot Step Size and turning behaviour (counter clockwise (ccw) or clockwise)\n",
    "robot_step_size = 0.2\n",
    "ccw = True\n",
    "\n",
    "# Obstacle configuration\n",
    "obstacle1 = Rectangle(origin=np.array([10, 20]), width=30, height=5)\n",
    "obstacle2 = Polygon(vertices= np.array([[20, 35], [35, 35], [35, 50], [40, 50],\n",
    "                                       [40, 30], [20, 30]]))\n",
    "obstacles = [obstacle1, obstacle2]\n",
    "\n",
    "path = bug1_algorithm(goal_pos,initial_robot_pos,robot_step_size,obstacles,ccw)\n",
    "steps = len(path)"
   ]
  },
  {
   "cell_type": "markdown",
   "metadata": {
    "cell_id": "00008-233d229d-5840-4ce5-a2a7-b78721ec4101",
    "deepnote_cell_height": 812.0499877929688,
    "deepnote_cell_type": "markdown"
   },
   "source": [
    "##  Test your Code\n",
    "\n",
    "Use the code provided below to visually test your implementation. If your solution is correct you should obtain a path similar(but not exact) to this one. \n",
    "\n",
    "<img src=\"https://i.imgur.com/0L0IhZE.gif\" height=\"400\" width=\"600\" align=\"center\">"
   ]
  },
  {
   "cell_type": "code",
   "execution_count": null,
   "metadata": {
    "cell_id": "00009-b3bfd6a7-a713-43cb-a614-c0199c002e33",
    "deepnote_cell_height": 721,
    "deepnote_cell_type": "code",
    "deepnote_to_be_reexecuted": false,
    "execution_millis": 10018,
    "execution_start": 1658110649186,
    "output_cleared": true,
    "owner_user_id": "39e5588c-373b-434e-8bfa-8e48976ef92a",
    "source_hash": "1ff8acb2"
   },
   "outputs": [],
   "source": [
    "thickness = 0.5\n",
    "robot_size = 0.5\n",
    "vis.delete()\n",
    "scale = 60\n",
    "vis.Set2DView(scale, center = [lim for lim in [-30, 60, 60, 0]])\n",
    "\n",
    "print(\"animating ...\")\n",
    "animate_path_bug(vis,initial_robot_pos,goal_pos,path,obstacles, robot_size, thickness, goal_line = False)\n",
    "\n",
    "import ipywidgets as widgets\n",
    "msg = widgets.HTML(f\"<big>Total of steps: {steps}</big>\")\n",
    "display(widgets.VBox([msg, vis.show_inline(height = 500)]))"
   ]
  },
  {
   "cell_type": "markdown",
   "metadata": {
    "created_in_deepnote_cell": true,
    "deepnote_cell_type": "markdown",
    "tags": []
   },
   "source": [
    "<a style='text-decoration:none;line-height:16px;display:flex;color:#5B5B62;padding:10px;justify-content:end;' href='https://deepnote.com?utm_source=created-in-deepnote-cell&projectId=8ca87fd4-86a8-4e2a-9521-da2ddccb6e1a' target=\"_blank\">\n",
    "<img alt='Created in deepnote.com' style='display:inline;max-height:16px;margin:0px;margin-right:7.5px;' src='data:image/svg+xml;base64,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' > </img>\n",
    "Created in <span style='font-weight:600;margin-left:4px;'>Deepnote</span></a>"
   ]
  }
 ],
 "metadata": {
  "deepnote": {},
  "deepnote_execution_queue": [],
  "deepnote_notebook_id": "6406130c-4a4a-4922-93ed-48c10481d705",
  "kernelspec": {
   "display_name": "Python 3",
   "language": "python",
   "name": "python3"
  },
  "language_info": {
   "codemirror_mode": {
    "name": "ipython",
    "version": 3
   },
   "file_extension": ".py",
   "mimetype": "text/x-python",
   "name": "python",
   "nbconvert_exporter": "python",
   "pygments_lexer": "ipython3",
   "version": "3.8.10"
  }
 },
 "nbformat": 4,
 "nbformat_minor": 2
}
